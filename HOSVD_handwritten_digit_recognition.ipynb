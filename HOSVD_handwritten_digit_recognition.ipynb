{
 "cells": [
  {
   "cell_type": "markdown",
   "id": "463b6791-674f-4473-aadb-84c3f202b10c",
   "metadata": {},
   "source": [
    "# 目的\n",
    "在USPS(手寫數字0-9)資料集  \n",
    "使用High Order SVD (HOSVD)來辨識  \n",
    "\n",
    "SVD: Singular Value Decomposition\n",
    "\n",
    "HOVSD is related to the Tucker model in psychometrics and chemometrics."
   ]
  },
  {
   "cell_type": "code",
   "execution_count": 1,
   "id": "8e5138cf-bc1c-40b1-b5ea-100b2b8640b5",
   "metadata": {},
   "outputs": [],
   "source": [
    "import numpy as np #array\n",
    "import pandas as pd #dataframe\n",
    "from pathlib import Path #file path\n",
    "from tqdm.notebook import trange, tqdm #for loop run progress"
   ]
  },
  {
   "cell_type": "code",
   "execution_count": 2,
   "id": "f76be682-683f-4579-bfd5-1e8ba45850e1",
   "metadata": {},
   "outputs": [],
   "source": [
    "import matplotlib\n",
    "import matplotlib.pyplot as plt"
   ]
  },
  {
   "cell_type": "code",
   "execution_count": 3,
   "id": "6deba6ea-4bb0-421c-9c2b-b951a8c2ae83",
   "metadata": {},
   "outputs": [],
   "source": [
    "import tensorly as tl"
   ]
  },
  {
   "cell_type": "code",
   "execution_count": 4,
   "id": "e24cc3a1-808c-4a81-a849-4b86a30b8652",
   "metadata": {},
   "outputs": [
    {
     "name": "stdout",
     "output_type": "stream",
     "text": [
      "Python Version:  3.9.9\n",
      "Numpy Version:  1.22.0\n",
      "Pandas Version:  1.3.5\n",
      "Matplotlib Version:  3.5.1\n",
      "TensorLy Version:  0.7.0\n"
     ]
    }
   ],
   "source": [
    "# Environment \n",
    "from platform import python_version\n",
    "print('Python Version: ', python_version())\n",
    "print('Numpy Version: ', np.__version__)\n",
    "print('Pandas Version: ', pd.__version__)\n",
    "print('Matplotlib Version: ', matplotlib.__version__)\n",
    "print('TensorLy Version: ', tl.__version__)"
   ]
  },
  {
   "cell_type": "markdown",
   "id": "639bcb19-8d27-4e65-af61-6883dcd854a8",
   "metadata": {},
   "source": [
    "# Data"
   ]
  },
  {
   "cell_type": "markdown",
   "id": "4e68f642-26fd-4ff5-b30e-650c87827864",
   "metadata": {},
   "source": [
    "USPS dataset | Kaggle  \n",
    "[https://www.kaggle.com/bistaumanga/usps-dataset](https://www.kaggle.com/bistaumanga/usps-dataset)  \n",
    "Handwritten Digits USPS dataset.  \n",
    "\n",
    "The dataset has 7291 train and 2007 test images. The images are 16*16 grayscale pixels.  \n",
    "\n",
    "The dataset is given in hdf5 file format, the hdf5 file has two groups train and test and each group has two datasets: data and target.  \n",
    "\n",
    "To read this file:  \n",
    "\n",
    "```\n",
    "import h5py\n",
    "with h5py.File(path, 'r') as hf:\n",
    "        train = hf.get('train')\n",
    "        X_tr = train.get('data')[:]\n",
    "        y_tr = train.get('target')[:]\n",
    "        test = hf.get('test')\n",
    "        X_te = test.get('data')[:]\n",
    "        y_te = test.get('target')[:]\n",
    "\n",
    "```"
   ]
  },
  {
   "cell_type": "code",
   "execution_count": 6,
   "id": "3cefeff4-8872-4c6f-ac90-8033c496f060",
   "metadata": {},
   "outputs": [],
   "source": [
    "import h5py\n",
    "with h5py.File(Path('input','usps.h5'), 'r') as hf:\n",
    "        train = hf.get('train')\n",
    "        X_tr = train.get('data')[:]\n",
    "        y_tr = train.get('target')[:]\n",
    "        test = hf.get('test')\n",
    "        X_te = test.get('data')[:]\n",
    "        y_te = test.get('target')[:]"
   ]
  },
  {
   "cell_type": "code",
   "execution_count": 7,
   "id": "cdd20a93-ab6e-4d65-add7-2d4cd0376a19",
   "metadata": {},
   "outputs": [],
   "source": [
    "df_train = pd.concat([pd.DataFrame(X_tr),\n",
    "                      pd.DataFrame(y_tr, columns=['Label'])], axis=1)"
   ]
  },
  {
   "cell_type": "code",
   "execution_count": 18,
   "id": "9205cfc6-6dca-4993-acca-1898da911b42",
   "metadata": {},
   "outputs": [
    {
     "data": {
      "text/plain": [
       "(7291, 257)"
      ]
     },
     "execution_count": 18,
     "metadata": {},
     "output_type": "execute_result"
    }
   ],
   "source": [
    "df_train.shape"
   ]
  },
  {
   "cell_type": "code",
   "execution_count": 8,
   "id": "f0380cf6-6381-4416-a8ba-e1e20c462db3",
   "metadata": {
    "tags": []
   },
   "outputs": [],
   "source": [
    "df_test = pd.concat([pd.DataFrame(X_te),\n",
    "                     pd.DataFrame(y_te, columns=['Label'])], axis=1)"
   ]
  },
  {
   "cell_type": "code",
   "execution_count": 14,
   "id": "9354b541-e99f-493c-b5da-5962fd47d48a",
   "metadata": {},
   "outputs": [
    {
     "data": {
      "text/plain": [
       "(2007, 257)"
      ]
     },
     "execution_count": 14,
     "metadata": {},
     "output_type": "execute_result"
    }
   ],
   "source": [
    "df_test.shape"
   ]
  },
  {
   "cell_type": "markdown",
   "id": "db8b42be-e1af-43b4-b68f-97ba64e1b453",
   "metadata": {},
   "source": [
    "# HOSVD  \n",
    "1. 先將 training set 整理成 0-9 各自一個 set (tensor: 16 x 16 x 圖片數量)  \n",
    "2. 將 step1 得到的 0-9 set，分別做 hosvd 取得所需的 U1, U2, U3, S  \n",
    "3. 將 testing set 每一張手寫數字 (z)，與 step 2 所得到 0-9 U1 U2 S，取特定 j 值所得的 Aj  \n",
    "依照以下公式，算出對 0-9 各別的 G 值  \n",
    "\n",
    "    - HOSVD  \n",
    "$A_j=S(:,:,j)~\\times_1~U^{(1)}~\\times_2~U^{(2)}$\n",
    "\n",
    "    - Solve least squares problem：  \n",
    "    $\\underset{z}{\\min}||Z-\\sum_j z_j A_j||_F$  \n",
    "\n",
    "    - Put  \n",
    "    $G(z)={1 \\over 2}\\langle Z,Z\\rangle -\\sum_j\\langle Z,A_j\\rangle + {1 \\over 2}\\sum_j z_j^2\\langle A_j,A_j\\rangle$\n",
    "\n",
    "    - To find the minimum  \n",
    "    $z_j={\\langle Z,A_j\\rangle\\over\\langle A_j,A_j\\rangle}$\n",
    "\n",
    "4. 當中最小的 G 值，即為預測該張手寫數字所代表的數字"
   ]
  },
  {
   "cell_type": "code",
   "execution_count": 9,
   "id": "d26324d7-ca42-4f80-8e59-53abb2e9efcf",
   "metadata": {},
   "outputs": [],
   "source": [
    "tensor_train = {}\n",
    "\n",
    "for i in range(10):\n",
    "    df_label = df_train[df_train['Label']==i].copy().reset_index(drop=True)\n",
    "    tensor = np.array(df_label.drop('Label', axis=1).transpose()).reshape(16,16,df_label.shape[0])\n",
    "    \n",
    "    tensor_train[i] = tensor"
   ]
  },
  {
   "cell_type": "code",
   "execution_count": 10,
   "id": "820cfa25-ee30-443b-974a-58fdcea73f51",
   "metadata": {},
   "outputs": [],
   "source": [
    "from tensorly.decomposition import tucker\n",
    "\n",
    "core_dict = {}\n",
    "factors_dict = {}\n",
    "\n",
    "for i in range(10):\n",
    "    core_dict[i], factors_dict[i] = tucker(tensor_train[i], rank=tensor_train[i].shape)"
   ]
  },
  {
   "cell_type": "code",
   "execution_count": 11,
   "id": "18320132-9093-4cb9-ba36-7c5b1ceeff3c",
   "metadata": {},
   "outputs": [
    {
     "data": {
      "application/vnd.jupyter.widget-view+json": {
       "model_id": "c71cddfc2be6454d97d889da5ca831d4",
       "version_major": 2,
       "version_minor": 0
      },
      "text/plain": [
       "  0%|          | 0/21 [00:00<?, ?it/s]"
      ]
     },
     "metadata": {},
     "output_type": "display_data"
    }
   ],
   "source": [
    "# Solve least squares problem：  \n",
    "# $\\underset{z}{\\min}||Z-\\sum_j z_j A_j||_F$  \n",
    "# To find the minimum  \n",
    "# $z_j={\\langle Z,A_j\\rangle\\over\\langle A_j,A_j\\rangle}$\n",
    "\n",
    "df_test_HOSVD_k = df_test.copy()\n",
    "\n",
    "select_k_list = np.arange(21)\n",
    "\n",
    "for k in trange(len(select_k_list)):\n",
    "    k_value = select_k_list[k]\n",
    "    df_test_HOSVD_k[f'k{str(k_value).zfill(2)}_Predict'] = 0\n",
    "    \n",
    "    for n in range(df_test.shape[0]):\n",
    "        z_array = df_test.drop('Label', axis=1).iloc[n,:]\n",
    "        Z = np.array(z_array).reshape(16,16)\n",
    "        G_list = []\n",
    "        for d in range(10):\n",
    "            S = core_dict[d]\n",
    "            U1,U2,U3 = factors_dict[d]\n",
    "            \n",
    "            Aj = U1.dot(S[:,:,k_value]).dot(U2.T)\n",
    "            zj = tl.tenalg.inner(Z, Aj)/tl.tenalg.inner(Aj, Aj)\n",
    "            \n",
    "            G = np.linalg.norm(np.subtract(Z, zj*Aj), ord='fro')\n",
    "            \n",
    "            G_list.append(G)\n",
    "            \n",
    "        df_test_HOSVD_k.loc[n, f'k{str(k_value).zfill(2)}_Predict'] = np.argmin(G_list)"
   ]
  },
  {
   "cell_type": "code",
   "execution_count": 13,
   "id": "217dc7a3-84aa-44f6-b2a7-302193059f94",
   "metadata": {},
   "outputs": [
    {
     "data": {
      "application/vnd.jupyter.widget-view+json": {
       "model_id": "c13f7a7795bb4f50a6ec9534f60317c1",
       "version_major": 2,
       "version_minor": 0
      },
      "text/plain": [
       "  0%|          | 0/21 [00:00<?, ?it/s]"
      ]
     },
     "metadata": {},
     "output_type": "display_data"
    }
   ],
   "source": [
    "# Compare if Success i.e. Label==Predict\n",
    "for k in trange(len(select_k_list)):\n",
    "    k_value = select_k_list[k]\n",
    "    \n",
    "    df_test_HOSVD_k[f'k{str(k_value).zfill(2)}_Success'] = 0\n",
    "    \n",
    "    for n in range(df_test_HOSVD_k.shape[0]):\n",
    "        if df_test_HOSVD_k.loc[n, 'Label'] == df_test_HOSVD_k.loc[n, f'k{str(k_value).zfill(2)}_Predict']:\n",
    "            df_test_HOSVD_k.loc[n, f'k{str(k_value).zfill(2)}_Success'] = 1"
   ]
  },
  {
   "cell_type": "code",
   "execution_count": 15,
   "id": "9d1a7093-c085-4030-a5a0-b1fd0b512a65",
   "metadata": {},
   "outputs": [
    {
     "data": {
      "application/vnd.jupyter.widget-view+json": {
       "model_id": "97e9994b71764c0a83795f00899fde0a",
       "version_major": 2,
       "version_minor": 0
      },
      "text/plain": [
       "  0%|          | 0/21 [00:00<?, ?it/s]"
      ]
     },
     "metadata": {},
     "output_type": "display_data"
    }
   ],
   "source": [
    "# Display and Compare best k for Accuracy\n",
    "df_HOSVD_k_accuracy = pd.DataFrame(columns=['k','Success','Accuracy'], \n",
    "                                   index=np.arange(len(select_k_list)))\n",
    "\n",
    "for k in trange(len(select_k_list)):\n",
    "    k_value = select_k_list[k]\n",
    "    df_HOSVD_k_accuracy.loc[k, 'k'] = k_value\n",
    "    df_HOSVD_k_accuracy.loc[k, 'Success'] = df_test_HOSVD_k[f'k{str(k_value).zfill(2)}_Success'].sum()\n",
    "    df_HOSVD_k_accuracy.loc[k, 'Accuracy'] = (df_HOSVD_k_accuracy.loc[k, 'Success']/df_test_HOSVD_k.shape[0])*100"
   ]
  },
  {
   "cell_type": "code",
   "execution_count": 16,
   "id": "3a073afe-be7c-45ee-b897-ff61d35eac06",
   "metadata": {},
   "outputs": [
    {
     "data": {
      "text/html": [
       "<div>\n",
       "<style scoped>\n",
       "    .dataframe tbody tr th:only-of-type {\n",
       "        vertical-align: middle;\n",
       "    }\n",
       "\n",
       "    .dataframe tbody tr th {\n",
       "        vertical-align: top;\n",
       "    }\n",
       "\n",
       "    .dataframe thead th {\n",
       "        text-align: right;\n",
       "    }\n",
       "</style>\n",
       "<table border=\"1\" class=\"dataframe\">\n",
       "  <thead>\n",
       "    <tr style=\"text-align: right;\">\n",
       "      <th></th>\n",
       "      <th>k</th>\n",
       "      <th>Success</th>\n",
       "      <th>Accuracy</th>\n",
       "    </tr>\n",
       "  </thead>\n",
       "  <tbody>\n",
       "    <tr>\n",
       "      <th>0</th>\n",
       "      <td>0</td>\n",
       "      <td>1619</td>\n",
       "      <td>80.667663</td>\n",
       "    </tr>\n",
       "    <tr>\n",
       "      <th>1</th>\n",
       "      <td>1</td>\n",
       "      <td>501</td>\n",
       "      <td>24.962631</td>\n",
       "    </tr>\n",
       "    <tr>\n",
       "      <th>2</th>\n",
       "      <td>2</td>\n",
       "      <td>312</td>\n",
       "      <td>15.54559</td>\n",
       "    </tr>\n",
       "    <tr>\n",
       "      <th>3</th>\n",
       "      <td>3</td>\n",
       "      <td>248</td>\n",
       "      <td>12.356751</td>\n",
       "    </tr>\n",
       "    <tr>\n",
       "      <th>4</th>\n",
       "      <td>4</td>\n",
       "      <td>137</td>\n",
       "      <td>6.826109</td>\n",
       "    </tr>\n",
       "    <tr>\n",
       "      <th>5</th>\n",
       "      <td>5</td>\n",
       "      <td>160</td>\n",
       "      <td>7.972098</td>\n",
       "    </tr>\n",
       "    <tr>\n",
       "      <th>6</th>\n",
       "      <td>6</td>\n",
       "      <td>128</td>\n",
       "      <td>6.377678</td>\n",
       "    </tr>\n",
       "    <tr>\n",
       "      <th>7</th>\n",
       "      <td>7</td>\n",
       "      <td>112</td>\n",
       "      <td>5.580468</td>\n",
       "    </tr>\n",
       "    <tr>\n",
       "      <th>8</th>\n",
       "      <td>8</td>\n",
       "      <td>79</td>\n",
       "      <td>3.936223</td>\n",
       "    </tr>\n",
       "    <tr>\n",
       "      <th>9</th>\n",
       "      <td>9</td>\n",
       "      <td>111</td>\n",
       "      <td>5.530643</td>\n",
       "    </tr>\n",
       "    <tr>\n",
       "      <th>10</th>\n",
       "      <td>10</td>\n",
       "      <td>117</td>\n",
       "      <td>5.829596</td>\n",
       "    </tr>\n",
       "    <tr>\n",
       "      <th>11</th>\n",
       "      <td>11</td>\n",
       "      <td>84</td>\n",
       "      <td>4.185351</td>\n",
       "    </tr>\n",
       "    <tr>\n",
       "      <th>12</th>\n",
       "      <td>12</td>\n",
       "      <td>85</td>\n",
       "      <td>4.235177</td>\n",
       "    </tr>\n",
       "    <tr>\n",
       "      <th>13</th>\n",
       "      <td>13</td>\n",
       "      <td>72</td>\n",
       "      <td>3.587444</td>\n",
       "    </tr>\n",
       "    <tr>\n",
       "      <th>14</th>\n",
       "      <td>14</td>\n",
       "      <td>61</td>\n",
       "      <td>3.039362</td>\n",
       "    </tr>\n",
       "    <tr>\n",
       "      <th>15</th>\n",
       "      <td>15</td>\n",
       "      <td>60</td>\n",
       "      <td>2.989537</td>\n",
       "    </tr>\n",
       "    <tr>\n",
       "      <th>16</th>\n",
       "      <td>16</td>\n",
       "      <td>63</td>\n",
       "      <td>3.139013</td>\n",
       "    </tr>\n",
       "    <tr>\n",
       "      <th>17</th>\n",
       "      <td>17</td>\n",
       "      <td>96</td>\n",
       "      <td>4.783259</td>\n",
       "    </tr>\n",
       "    <tr>\n",
       "      <th>18</th>\n",
       "      <td>18</td>\n",
       "      <td>53</td>\n",
       "      <td>2.640757</td>\n",
       "    </tr>\n",
       "    <tr>\n",
       "      <th>19</th>\n",
       "      <td>19</td>\n",
       "      <td>70</td>\n",
       "      <td>3.487793</td>\n",
       "    </tr>\n",
       "    <tr>\n",
       "      <th>20</th>\n",
       "      <td>20</td>\n",
       "      <td>59</td>\n",
       "      <td>2.939711</td>\n",
       "    </tr>\n",
       "  </tbody>\n",
       "</table>\n",
       "</div>"
      ],
      "text/plain": [
       "     k Success   Accuracy\n",
       "0    0    1619  80.667663\n",
       "1    1     501  24.962631\n",
       "2    2     312   15.54559\n",
       "3    3     248  12.356751\n",
       "4    4     137   6.826109\n",
       "5    5     160   7.972098\n",
       "6    6     128   6.377678\n",
       "7    7     112   5.580468\n",
       "8    8      79   3.936223\n",
       "9    9     111   5.530643\n",
       "10  10     117   5.829596\n",
       "11  11      84   4.185351\n",
       "12  12      85   4.235177\n",
       "13  13      72   3.587444\n",
       "14  14      61   3.039362\n",
       "15  15      60   2.989537\n",
       "16  16      63   3.139013\n",
       "17  17      96   4.783259\n",
       "18  18      53   2.640757\n",
       "19  19      70   3.487793\n",
       "20  20      59   2.939711"
      ]
     },
     "execution_count": 16,
     "metadata": {},
     "output_type": "execute_result"
    }
   ],
   "source": [
    "df_HOSVD_k_accuracy"
   ]
  },
  {
   "cell_type": "code",
   "execution_count": 17,
   "id": "9ef36b0b-c386-401d-8592-c081a8f9b5b7",
   "metadata": {},
   "outputs": [
    {
     "data": {
      "text/plain": [
       "Text(0.5, 1.0, 'HOSVD Accuracy vs k value')"
      ]
     },
     "execution_count": 17,
     "metadata": {},
     "output_type": "execute_result"
    },
    {
     "data": {
      "image/png": "[encoded data removed]",
      "text/plain": [
       "<Figure size 432x288 with 1 Axes>"
      ]
     },
     "metadata": {
      "needs_background": "light"
     },
     "output_type": "display_data"
    }
   ],
   "source": [
    "plt.figure(figsize=(6,4))\n",
    "plt.plot(df_HOSVD_k_accuracy['k'], df_HOSVD_k_accuracy['Accuracy'], 'b-')\n",
    "plt.plot(df_HOSVD_k_accuracy['k'], df_HOSVD_k_accuracy['Accuracy'], 'r.')\n",
    "plt.vlines(df_HOSVD_k_accuracy.loc[np.argmax(df_HOSVD_k_accuracy['Accuracy']),'k'],\n",
    "           ymin=df_HOSVD_k_accuracy['Accuracy'].min(),\n",
    "           ymax=df_HOSVD_k_accuracy['Accuracy'].max(),\n",
    "           linestyles='dashed',colors='black')\n",
    "plt.hlines(df_HOSVD_k_accuracy['Accuracy'].max(),\n",
    "           xmin=df_HOSVD_k_accuracy['k'].min(),\n",
    "           xmax=df_HOSVD_k_accuracy.loc[np.argmax(df_HOSVD_k_accuracy['Accuracy']),'k'],\n",
    "           linestyles='dashed',colors='black')\n",
    "plt.xlabel('k value', fontsize=14)\n",
    "# plt.xticks(np.array(df_k_accuracy['k'], dtype=int))\n",
    "plt.xticks(np.arange(0,21,2))\n",
    "plt.ylabel('Accuracy Percentage(%)', fontsize=14)\n",
    "plt.title('HOSVD Accuracy vs k value', fontsize=18)\n",
    "# plt.savefig('HOSVD_k_Accuracy.jpg', dpi=300)"
   ]
  },
  {
   "cell_type": "code",
   "execution_count": null,
   "id": "2ddfa65f-e273-4d75-ac95-1a883e0dd509",
   "metadata": {},
   "outputs": [],
   "source": []
  }
 ],
 "metadata": {
  "kernelspec": {
   "display_name": "Python 3 (ipykernel)",
   "language": "python",
   "name": "python3"
  },
  "language_info": {
   "codemirror_mode": {
    "name": "ipython",
    "version": 3
   },
   "file_extension": ".py",
   "mimetype": "text/x-python",
   "name": "python",
   "nbconvert_exporter": "python",
   "pygments_lexer": "ipython3",
   "version": "3.9.9"
  }
 },
 "nbformat": 4,
 "nbformat_minor": 5
}
